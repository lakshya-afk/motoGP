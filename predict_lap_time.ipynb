{
 "cells": [
  {
   "cell_type": "markdown",
   "id": "5af101b4",
   "metadata": {},
   "source": [
    "# Predicting Lap Time Seconds: End-to-End Regression Pipeline\n",
    "\n",
    "This notebook demonstrates how to predict `Lap_Time_Seconds` using a machine learning pipeline with pandas and scikit-learn. It covers data loading, preprocessing, model training, validation, and generating a submission file."
   ]
  },
  {
   "cell_type": "code",
   "execution_count": null,
   "id": "a12cb0a7",
   "metadata": {},
   "outputs": [],
   "source": [
    "# Import Required Libraries\n",
    "import pandas as pd\n",
    "from sklearn.ensemble import RandomForestRegressor\n",
    "from sklearn.metrics import mean_absolute_error\n",
    "from sklearn.preprocessing import LabelEncoder\n"
   ]
  },
  {
   "cell_type": "code",
   "execution_count": null,
   "id": "1a4afd82",
   "metadata": {},
   "outputs": [],
   "source": [
    "# Load datasets\n",
    "train = pd.read_csv('train.csv')\n",
    "val = pd.read_csv('val.csv')\n",
    "test = pd.read_csv('test.csv')\n",
    "sample_submission = pd.read_csv('sample_submission.csv')\n",
    "\n",
    "print('Train shape:', train.shape)\n",
    "print('Validation shape:', val.shape)\n",
    "print('Test shape:', test.shape)\n",
    "train.head()"
   ]
  },
  {
   "cell_type": "code",
   "execution_count": null,
   "id": "9a556cdc",
   "metadata": {},
   "outputs": [],
   "source": [
    "# Basic preprocessing: handle categorical variables\n",
    "for col in train.columns:\n",
    "    if train[col].dtype == 'object':\n",
    "        le = LabelEncoder()\n",
    "        train[col] = le.fit_transform(train[col].astype(str))\n",
    "        val[col] = le.transform(val[col].astype(str))\n",
    "        if col in test.columns:\n",
    "            test[col] = le.transform(test[col].astype(str))"
   ]
  },
  {
   "cell_type": "code",
   "execution_count": null,
   "id": "aafd931c",
   "metadata": {},
   "outputs": [],
   "source": [
    "# Separate features and target\n",
    "\n",
    "target = 'Lap_Time_Seconds'\n",
    "features = [col for col in train.columns if col != target]\n",
    "\n",
    "X_train = train[features]\n",
    "y_train = train[target]\n",
    "X_val = val[features]\n",
    "y_val = val[target]\n",
    "X_test = test[features]"
   ]
  },
  {
   "cell_type": "code",
   "execution_count": null,
   "id": "cb071fb5",
   "metadata": {},
   "outputs": [],
   "source": [
    "# Train model\n",
    "model = RandomForestRegressor(n_estimators=100, random_state=42)\n",
    "model.fit(X_train, y_train)\n",
    "\n",
    "# Validation\n",
    "val_preds = model.predict(X_val)\n",
    "mae = mean_absolute_error(y_val, val_preds)\n",
    "print(f'Validation MAE: {mae:.4f}')"
   ]
  },
  {
   "cell_type": "code",
   "execution_count": null,
   "id": "844746f3",
   "metadata": {},
   "outputs": [],
   "source": [
    "# Predict on test set and prepare submission\n",
    "\n",
    "test_preds = model.predict(X_test)\n",
    "submission = sample_submission.copy()\n",
    "submission['Lap_Time_Seconds'] = test_preds\n",
    "submission.to_csv('submission.csv', index=False)\n",
    "print('Predictions saved to submission.csv')"
   ]
  }
 ],
 "metadata": {
  "language_info": {
   "name": "python"
  }
 },
 "nbformat": 4,
 "nbformat_minor": 5
}
